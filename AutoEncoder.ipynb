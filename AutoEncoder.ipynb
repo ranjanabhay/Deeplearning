{
 "cells": [
  {
   "cell_type": "code",
   "execution_count": 28,
   "metadata": {},
   "outputs": [],
   "source": [
    "#Following tasks will be performed in this model\n",
    "#Import Required Libraries\n",
    "#Build the encoder model\n",
    "#Build the decoder model\n",
    "#Pre-Process the dataset\n",
    "#Train the encoder\n",
    "#Data Visualization"
   ]
  },
  {
   "cell_type": "code",
   "execution_count": 29,
   "metadata": {},
   "outputs": [],
   "source": [
    "import tensorflow as tf"
   ]
  },
  {
   "cell_type": "code",
   "execution_count": 30,
   "metadata": {},
   "outputs": [],
   "source": [
    "from tensorflow.keras.layers import Input,Dense\n",
    "from tensorflow.keras.models import Model"
   ]
  },
  {
   "cell_type": "code",
   "execution_count": 31,
   "metadata": {},
   "outputs": [
    {
     "name": "stdout",
     "output_type": "stream",
     "text": [
      "Tensorflow Version: 2.0.0-rc1\n"
     ]
    }
   ],
   "source": [
    "print('Tensorflow Version:',tf.__version__)"
   ]
  },
  {
   "cell_type": "code",
   "execution_count": 32,
   "metadata": {},
   "outputs": [],
   "source": [
    "#This is the size of encoded representation\n",
    "encoding_dim = 32 #32 floats-->compression of factor 24.5,assuming the input is 784 floats\n",
    "#this is our input placeholder\n",
    "input_img = Input(shape=(784,))\n",
    "\n",
    "#\"encoded\" is the encoded representation of the input\n",
    "encoded = Dense(encoding_dim,activation='relu')(input_img)\n",
    "\n",
    "#\"decoded\" is the lossy reconstruction of the input\n",
    "decoded =  Dense(784,activation='sigmoid')(encoded)\n",
    "\n",
    "#This model maps an input to its reconstruction\n",
    "autoencoder = Model(input_img,decoded)"
   ]
  },
  {
   "cell_type": "code",
   "execution_count": 33,
   "metadata": {},
   "outputs": [],
   "source": [
    "#Build the encoder model\n",
    "encoder = Model(input_img,encoded)"
   ]
  },
  {
   "cell_type": "code",
   "execution_count": 34,
   "metadata": {},
   "outputs": [],
   "source": [
    "#Build the decoder model\n",
    "#Create a placeholder for an encoded (32 dimensional) input\n",
    "encoded_input = Input(shape=(encoding_dim,))\n",
    "\n",
    "#retrieve the last layer of the auto-encoder model\n",
    "decoder_layer = autoencoder.layers[-1]\n",
    "\n",
    "#Create the decoder model\n",
    "decoder = Model(encoded_input,decoder_layer(encoded_input))"
   ]
  },
  {
   "cell_type": "code",
   "execution_count": 36,
   "metadata": {},
   "outputs": [
    {
     "name": "stdout",
     "output_type": "stream",
     "text": [
      "Model: \"model_4\"\n",
      "_________________________________________________________________\n",
      "Layer (type)                 Output Shape              Param #   \n",
      "=================================================================\n",
      "input_8 (InputLayer)         [(None, 784)]             0         \n",
      "_________________________________________________________________\n",
      "dense_7 (Dense)              (None, 32)                25120     \n",
      "_________________________________________________________________\n",
      "dense_8 (Dense)              (None, 784)               25872     \n",
      "=================================================================\n",
      "Total params: 50,992\n",
      "Trainable params: 50,992\n",
      "Non-trainable params: 0\n",
      "_________________________________________________________________\n"
     ]
    }
   ],
   "source": [
    "autoencoder.compile(loss='binary_crossentropy',optimizer=tf.keras.optimizers.Adam(lr=0.001))\n",
    "autoencoder.summary()"
   ]
  },
  {
   "cell_type": "code",
   "execution_count": null,
   "metadata": {},
   "outputs": [],
   "source": [
    "##lets prepare our input data.We're using MNIST digits,and we are discarding the labels (since we are only interested in encoding/decoding the input images)"
   ]
  },
  {
   "cell_type": "code",
   "execution_count": 38,
   "metadata": {},
   "outputs": [],
   "source": [
    "(x_train,_), (x_test,_) = tf.keras.datasets.mnist.load_data()"
   ]
  },
  {
   "cell_type": "code",
   "execution_count": 39,
   "metadata": {},
   "outputs": [],
   "source": [
    "#Normalize all the values between 0 and 1 and we will flatten the 28*28 images into vectors of size 784"
   ]
  },
  {
   "cell_type": "code",
   "execution_count": 40,
   "metadata": {},
   "outputs": [
    {
     "name": "stdout",
     "output_type": "stream",
     "text": [
      "(60000, 784)\n",
      "(10000, 784)\n"
     ]
    }
   ],
   "source": [
    "x_train = x_train.astype('float32') /255.\n",
    "x_test = x_test.astype('float32') /255.\n",
    "\n",
    "x_train = x_train.reshape((len(x_train),np.prod(x_train.shape[1:])))\n",
    "x_test = x_test.reshape((len(x_test),np.prod(x_test.shape[1:])))\n",
    "\n",
    "print(x_train.shape)\n",
    "print(x_test.shape)"
   ]
  },
  {
   "cell_type": "code",
   "execution_count": 41,
   "metadata": {},
   "outputs": [
    {
     "name": "stdout",
     "output_type": "stream",
     "text": [
      "Train on 60000 samples, validate on 10000 samples\n",
      "Epoch 1/50\n",
      "WARNING:tensorflow:From /opt/anaconda3/lib/python3.7/site-packages/tensorflow_core/python/ops/nn_impl.py:183: where (from tensorflow.python.ops.array_ops) is deprecated and will be removed in a future version.\n",
      "Instructions for updating:\n",
      "Use tf.where in 2.0, which has the same broadcast rule as np.where\n",
      "60000/60000 [==============================] - 2s 32us/sample - loss: 0.2786 - val_loss: 0.1899\n",
      "Epoch 2/50\n",
      "60000/60000 [==============================] - 1s 21us/sample - loss: 0.1703 - val_loss: 0.1526\n",
      "Epoch 3/50\n",
      "60000/60000 [==============================] - 1s 21us/sample - loss: 0.1438 - val_loss: 0.1336\n",
      "Epoch 4/50\n",
      "60000/60000 [==============================] - 1s 23us/sample - loss: 0.1282 - val_loss: 0.1209\n",
      "Epoch 5/50\n",
      "60000/60000 [==============================] - 1s 24us/sample - loss: 0.1178 - val_loss: 0.1125\n",
      "Epoch 6/50\n",
      "60000/60000 [==============================] - 1s 22us/sample - loss: 0.1107 - val_loss: 0.1066\n",
      "Epoch 7/50\n",
      "60000/60000 [==============================] - 1s 22us/sample - loss: 0.1057 - val_loss: 0.1023\n",
      "Epoch 8/50\n",
      "60000/60000 [==============================] - 1s 20us/sample - loss: 0.1020 - val_loss: 0.0993\n",
      "Epoch 9/50\n",
      "60000/60000 [==============================] - 1s 19us/sample - loss: 0.0994 - val_loss: 0.0971\n",
      "Epoch 10/50\n",
      "60000/60000 [==============================] - 1s 19us/sample - loss: 0.0975 - val_loss: 0.0954\n",
      "Epoch 11/50\n",
      "60000/60000 [==============================] - 1s 19us/sample - loss: 0.0962 - val_loss: 0.0946\n",
      "Epoch 12/50\n",
      "60000/60000 [==============================] - 1s 21us/sample - loss: 0.0954 - val_loss: 0.0937\n",
      "Epoch 13/50\n",
      "60000/60000 [==============================] - 1s 19us/sample - loss: 0.0948 - val_loss: 0.0934\n",
      "Epoch 14/50\n",
      "60000/60000 [==============================] - 1s 19us/sample - loss: 0.0944 - val_loss: 0.0929\n",
      "Epoch 15/50\n",
      "60000/60000 [==============================] - 1s 19us/sample - loss: 0.0942 - val_loss: 0.0927\n",
      "Epoch 16/50\n",
      "60000/60000 [==============================] - 1s 19us/sample - loss: 0.0940 - val_loss: 0.0925\n",
      "Epoch 17/50\n",
      "60000/60000 [==============================] - 1s 19us/sample - loss: 0.0938 - val_loss: 0.0925\n",
      "Epoch 18/50\n",
      "60000/60000 [==============================] - 1s 19us/sample - loss: 0.0937 - val_loss: 0.0923\n",
      "Epoch 19/50\n",
      "60000/60000 [==============================] - 1s 19us/sample - loss: 0.0936 - val_loss: 0.0922\n",
      "Epoch 20/50\n",
      "60000/60000 [==============================] - 1s 19us/sample - loss: 0.0935 - val_loss: 0.0922\n",
      "Epoch 21/50\n",
      "60000/60000 [==============================] - 1s 20us/sample - loss: 0.0934 - val_loss: 0.0921\n",
      "Epoch 22/50\n",
      "60000/60000 [==============================] - 1s 19us/sample - loss: 0.0934 - val_loss: 0.0921\n",
      "Epoch 23/50\n",
      "60000/60000 [==============================] - 1s 19us/sample - loss: 0.0933 - val_loss: 0.0920\n",
      "Epoch 24/50\n",
      "60000/60000 [==============================] - 1s 20us/sample - loss: 0.0933 - val_loss: 0.0920\n",
      "Epoch 25/50\n",
      "60000/60000 [==============================] - 1s 19us/sample - loss: 0.0932 - val_loss: 0.0919\n",
      "Epoch 26/50\n",
      "60000/60000 [==============================] - 1s 19us/sample - loss: 0.0932 - val_loss: 0.0919\n",
      "Epoch 27/50\n",
      "60000/60000 [==============================] - 1s 19us/sample - loss: 0.0931 - val_loss: 0.0919\n",
      "Epoch 28/50\n",
      "60000/60000 [==============================] - 1s 19us/sample - loss: 0.0931 - val_loss: 0.0919\n",
      "Epoch 29/50\n",
      "60000/60000 [==============================] - 1s 19us/sample - loss: 0.0931 - val_loss: 0.0919\n",
      "Epoch 30/50\n",
      "60000/60000 [==============================] - 1s 19us/sample - loss: 0.0931 - val_loss: 0.0918\n",
      "Epoch 31/50\n",
      "60000/60000 [==============================] - 1s 19us/sample - loss: 0.0930 - val_loss: 0.0918\n",
      "Epoch 32/50\n",
      "60000/60000 [==============================] - 1s 22us/sample - loss: 0.0930 - val_loss: 0.0918\n",
      "Epoch 33/50\n",
      "60000/60000 [==============================] - 3s 46us/sample - loss: 0.0930 - val_loss: 0.0918\n",
      "Epoch 34/50\n",
      "60000/60000 [==============================] - 1s 21us/sample - loss: 0.0930 - val_loss: 0.0918\n",
      "Epoch 35/50\n",
      "60000/60000 [==============================] - 1s 19us/sample - loss: 0.0930 - val_loss: 0.0918\n",
      "Epoch 36/50\n",
      "60000/60000 [==============================] - 1s 19us/sample - loss: 0.0929 - val_loss: 0.0918\n",
      "Epoch 37/50\n",
      "60000/60000 [==============================] - 1s 20us/sample - loss: 0.0929 - val_loss: 0.0917\n",
      "Epoch 38/50\n",
      "60000/60000 [==============================] - 1s 19us/sample - loss: 0.0929 - val_loss: 0.0917\n",
      "Epoch 39/50\n",
      "60000/60000 [==============================] - 1s 19us/sample - loss: 0.0929 - val_loss: 0.0917\n",
      "Epoch 40/50\n",
      "60000/60000 [==============================] - 1s 20us/sample - loss: 0.0929 - val_loss: 0.0917\n",
      "Epoch 41/50\n",
      "60000/60000 [==============================] - 1s 19us/sample - loss: 0.0929 - val_loss: 0.0917\n",
      "Epoch 42/50\n",
      "60000/60000 [==============================] - 1s 23us/sample - loss: 0.0928 - val_loss: 0.0917\n",
      "Epoch 43/50\n",
      "60000/60000 [==============================] - 3s 45us/sample - loss: 0.0928 - val_loss: 0.0917\n",
      "Epoch 44/50\n",
      "60000/60000 [==============================] - 2s 29us/sample - loss: 0.0928 - val_loss: 0.0917\n",
      "Epoch 45/50\n",
      "60000/60000 [==============================] - 1s 19us/sample - loss: 0.0928 - val_loss: 0.0917\n",
      "Epoch 46/50\n",
      "60000/60000 [==============================] - 1s 20us/sample - loss: 0.0928 - val_loss: 0.0916\n",
      "Epoch 47/50\n",
      "60000/60000 [==============================] - 1s 19us/sample - loss: 0.0928 - val_loss: 0.0916\n",
      "Epoch 48/50\n",
      "60000/60000 [==============================] - 1s 19us/sample - loss: 0.0928 - val_loss: 0.0916\n",
      "Epoch 49/50\n",
      "60000/60000 [==============================] - 1s 19us/sample - loss: 0.0928 - val_loss: 0.0916\n",
      "Epoch 50/50\n",
      "60000/60000 [==============================] - 1s 19us/sample - loss: 0.0928 - val_loss: 0.0916\n"
     ]
    },
    {
     "data": {
      "text/plain": [
       "<tensorflow.python.keras.callbacks.History at 0x63a58b7d0>"
      ]
     },
     "execution_count": 41,
     "metadata": {},
     "output_type": "execute_result"
    }
   ],
   "source": [
    "autoencoder.fit(x_train,x_train,epochs=50,batch_size=256,shuffle=True,validation_data=(x_test,x_test))"
   ]
  },
  {
   "cell_type": "code",
   "execution_count": 43,
   "metadata": {},
   "outputs": [],
   "source": [
    "##Now we can try to visualize the reconstructed inputs and the encoded representations.We will use matplotlib\n",
    "#encode and decode some digits\n",
    "#Note that we take them from test set\n",
    "encoded_imgs = encoder.predict(x_test)\n",
    "decoded_imgs = decoder.predict(encoded_imgs)"
   ]
  },
  {
   "cell_type": "code",
   "execution_count": 44,
   "metadata": {},
   "outputs": [
    {
     "data": {
      "image/png": "[encoded data removed]",
      "text/plain": [
       "<Figure size 1440x288 with 20 Axes>"
      ]
     },
     "metadata": {
      "needs_background": "light"
     },
     "output_type": "display_data"
    }
   ],
   "source": [
    "#use Matplotlib\n",
    "import matplotlib.pyplot as plt\n",
    "\n",
    "n = 10 # How many digits we want to display\n",
    "plt.figure(figsize=(20,4))\n",
    "for i in range(n):\n",
    "    #display original\n",
    "    ax = plt.subplot(2,n,i+1)\n",
    "    plt.imshow(x_test[i].reshape(28,28))\n",
    "    plt.gray()\n",
    "    ax.get_xaxis().set_visible(False)\n",
    "    ax.get_yaxis().set_visible(False)\n",
    "    \n",
    "    #display reconstruction\n",
    "    ax = plt.subplot(2,n,i+1+n)\n",
    "    plt.imshow(decoded_imgs[i].reshape(28,28))\n",
    "    plt.gray()\n",
    "    ax.get_xaxis().set_visible(False)\n",
    "    ax.get_yaxis().set_visible(False)\n",
    "\n",
    "plt.show()\n"
   ]
  },
  {
   "cell_type": "code",
   "execution_count": null,
   "metadata": {},
   "outputs": [],
   "source": []
  }
 ],
 "metadata": {
  "kernelspec": {
   "display_name": "Python 3",
   "language": "python",
   "name": "python3"
  },
  "language_info": {
   "codemirror_mode": {
    "name": "ipython",
    "version": 3
   },
   "file_extension": ".py",
   "mimetype": "text/x-python",
   "name": "python",
   "nbconvert_exporter": "python",
   "pygments_lexer": "ipython3",
   "version": "3.7.6"
  },
  "varInspector": {
   "cols": {
    "lenName": 16,
    "lenType": 16,
    "lenVar": 40
   },
   "kernels_config": {
    "python": {
     "delete_cmd_postfix": "",
     "delete_cmd_prefix": "del ",
     "library": "var_list.py",
     "varRefreshCmd": "print(var_dic_list())"
    },
    "r": {
     "delete_cmd_postfix": ") ",
     "delete_cmd_prefix": "rm(",
     "library": "var_list.r",
     "varRefreshCmd": "cat(var_dic_list()) "
    }
   },
   "types_to_exclude": [
    "module",
    "function",
    "builtin_function_or_method",
    "instance",
    "_Feature"
   ],
   "window_display": false
  }
 },
 "nbformat": 4,
 "nbformat_minor": 4
}
